{
  "nbformat": 4,
  "nbformat_minor": 0,
  "metadata": {
    "colab": {
      "provenance": [],
      "authorship_tag": "ABX9TyOe3pnas3ojlw4hTb4WX736",
      "include_colab_link": true
    },
    "kernelspec": {
      "name": "python3",
      "display_name": "Python 3"
    },
    "language_info": {
      "name": "python"
    }
  },
  "cells": [
    {
      "cell_type": "markdown",
      "metadata": {
        "id": "view-in-github",
        "colab_type": "text"
      },
      "source": [
        "<a href=\"https://colab.research.google.com/github/GilbertoIFG/myprojects/blob/main/GeoJson_Polygon.ipynb\" target=\"_parent\"><img src=\"https://colab.research.google.com/assets/colab-badge.svg\" alt=\"Open In Colab\"/></a>"
      ]
    },
    {
      "cell_type": "code",
      "source": [
        "import matplotlib.pyplot as plt\n",
        "import numpy as np\n",
        "\n",
        "# Função para verificar se um ponto está dentro do alcance de um sensor\n",
        "def ponto_dentro_do_alcance(sensor, ponto):\n",
        "    distancia = np.sqrt((ponto[0] - sensor[0])**2 + (ponto[1] - sensor[1])**2)\n",
        "    return distancia <= sensor[2]\n",
        "\n",
        "# Função para verificar se os sensores estão dentro do alcance um do outro\n",
        "def sensores_dentro_do_alcance(sensor1, sensor2):\n",
        "    distancia_centros = np.sqrt((sensor1[0] - sensor2[0])**2 + (sensor1[1] - sensor2[1])**2)\n",
        "    soma_radios = sensor1[2] + sensor2[2]\n",
        "    return distancia_centros < soma_radios\n",
        "\n",
        "# Gerar coordenadas aleatórias para os sensores e a sala\n",
        "def gerar_coordenadas_aleatorias():\n",
        "    sala = np.random.uniform(low=-90, high=90, size=(2,))  # Coordenadas da sala (latitude, longitude)\n",
        "    sensor1 = np.random.uniform(low=-90, high=90, size=(3,))  # Coordenadas do sensor 1 (latitude, longitude, alcance)\n",
        "    sensor2 = np.random.uniform(low=-90, high=90, size=(3,))  # Coordenadas do sensor 2 (latitude, longitude, alcance)\n",
        "    return sala, sensor1, sensor2\n",
        "\n",
        "# Fazer o plot dos sensores e da sala\n",
        "def plotar_sensores_e_sala(sala, sensor1, sensor2):\n",
        "    # Gerar pontos para o plot\n",
        "    x_sensores = [sensor1[0], sensor2[0]]\n",
        "    y_sensores = [sensor1[1], sensor2[1]]\n",
        "    r_sensores = [sensor1[2], sensor2[2]]\n",
        "    cores = ['r', 'b']\n",
        "    alphas = [0.3, 0.3]\n",
        "\n",
        "    # Fazer o plot dos sensores como círculos\n",
        "    for i in range(2):\n",
        "        plt.scatter(x_sensores[i], y_sensores[i], s=100, c=cores[i], label=f'Sensor {i+1}', zorder=2)\n",
        "        plt.gca().add_patch(plt.Circle((x_sensores[i], y_sensores[i]), radius=r_sensores[i], color=cores[i], alpha=alphas[i], zorder=1))\n",
        "\n",
        "    # Definir os limites do plot\n",
        "    plt.xlim(-100, 100)\n",
        "    plt.ylim(-100, 100)\n",
        "\n",
        "    # Adicionar legendas\n",
        "    plt.legend()\n",
        "\n",
        "    # Remover eixos e grid\n",
        "    plt.axis('off')\n",
        "\n",
        "    # Exibir o plot\n",
        "    plt.gca().set_aspect('equal', adjustable='box')\n",
        "    plt.show()\n",
        "\n",
        "# Gerar coordenadas aleatórias e fazer o plot\n",
        "sala, sensor1, sensor2 = gerar_coordenadas_aleatorias()\n",
        "\n",
        "# Mostrar informações antes do plot da imagem\n",
        "print(f\"Coordenadas do Sensor 1: {tuple(sensor1)}\")\n",
        "print(f\"Coordenadas do Sensor 2: {tuple(sensor2)}\")\n",
        "\n",
        "# Verificar se o Sensor 1 está no alcance do Sensor 2\n",
        "if ponto_dentro_do_alcance(sensor1, sensor2):\n",
        "    print(\"O Sensor 1 está no alcance do Sensor 2.\")\n",
        "else:\n",
        "    print(\"O Sensor 1 não está no alcance do Sensor 2.\")\n",
        "\n",
        "# Verificar se o Sensor 2 está no alcance do Sensor 1\n",
        "if ponto_dentro_do_alcance(sensor2, sensor1):\n",
        "    print(\"O Sensor 2 está no alcance do Sensor 1.\")\n",
        "else:\n",
        "    print(\"O Sensor 2 não está no alcance do Sensor 1.\")\n",
        "\n",
        "# Fazer o plot dos sensores e da sala\n",
        "plotar_sensores_e_sala(sala, sensor1, sensor2)\n"
      ],
      "metadata": {
        "colab": {
          "base_uri": "https://localhost:8080/",
          "height": 477
        },
        "id": "_Q17J0QfviIp",
        "outputId": "bb3065bf-f558-419a-a902-56811fcbb438"
      },
      "execution_count": 84,
      "outputs": [
        {
          "output_type": "stream",
          "name": "stdout",
          "text": [
            "Coordenadas do Sensor 1: (50.92046734605006, 76.18612381329194, 44.13029185241891)\n",
            "Coordenadas do Sensor 2: (-82.57461732326516, -77.83067692009784, -10.865383663546012)\n",
            "O Sensor 1 não está no alcance do Sensor 2.\n",
            "O Sensor 2 não está no alcance do Sensor 1.\n"
          ]
        },
        {
          "output_type": "display_data",
          "data": {
            "text/plain": [
              "<Figure size 640x480 with 1 Axes>"
            ],
            "image/png": "[encoded data removed]"
          },
          "metadata": {}
        }
      ]
    }
  ]
}